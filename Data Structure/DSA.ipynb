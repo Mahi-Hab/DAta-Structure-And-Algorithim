{
 "cells": [
  {
   "cell_type": "markdown",
   "id": "75eea408",
   "metadata": {},
   "source": [
    "<span style=\"font-size:28px;\">\n",
    "Name: Mahilet Habtamu <br> \n",
    "ID: DBU1601320 <br> \n",
    "Department: Computer Science <br> \n"
   ]
  },
  {
   "cell_type": "markdown",
   "id": "6de0f364",
   "metadata": {},
   "source": [
    "\n",
    "#GitHub: https://github.com/Mahi-Hab/Data-Structure-And-Algorithim"
   ]
  },
  {
   "cell_type": "code",
   "execution_count": null,
   "id": "4c8c924c",
   "metadata": {},
   "outputs": [],
   "source": [
    "\n",
    "Students = [\n",
    "    {'id': 'DBU1514003', 'name': 'Mahilet', 'dept': 'DS', 'cgpa': 3.34},\n",
    "    {'id': 'DBU1514007', 'name': 'yosef', 'dept': 'CS', 'cgpa': 3.12},\n",
    "    {'id': 'DBU1514001', 'name': 'Yared', 'dept': 'DS', 'cgpa': 2.74},\n",
    "    {'id': 'DBU1514005', 'name': 'Lidia', 'dept': 'CS', 'cgpa': 3.10},\n",
    "    {'id': 'DBU1514009', 'name': 'Meklit', 'dept': 'IT', 'cgpa': 2.98},\n",
    "    {'id': 'DBU1514004', 'name': 'Nathan', 'dept': 'CS', 'cgpa': 3.45},\n",
    "    {'id': 'DBU1514002', 'name': 'Yordanos', 'dept': 'DS', 'cgpa': 3.67},\n",
    "    {'id': 'DBU1514006', 'name': 'Biniam', 'dept': 'SE', 'cgpa': 3.25},\n",
    "    {'id': 'DBU1514008', 'name': 'Lily', 'dept': 'CS', 'cgpa': 3.18},\n",
    "    {'id': 'DBU1514010', 'name': 'Hanna', 'dept': 'SE', 'cgpa': 3.40}\n",
    "]\n",
    "\n",
    "#  Sort by ID(bubble)\n",
    "def bubble_sort_by_id(student_list):\n",
    "    n = len(student_list)\n",
    "    for i in range(n):\n",
    "        for j in range(0, n - i - 1):\n",
    "            if student_list[j]['id'] > student_list[j + 1]['id']:\n",
    "                student_list[j], student_list[j + 1] = student_list[j + 1], student_list[j]\n",
    "    return student_list\n",
    "\n",
    "#  Sort by Name(Insertion)\n",
    "def insertion_sort_by_name(student_list):\n",
    "    for i in range(1, len(student_list)):\n",
    "        key = student_list[i]\n",
    "        j = i - 1\n",
    "        while j >= 0 and key['name'].lower() < student_list[j]['name'].lower():\n",
    "            student_list[j + 1] = student_list[j]\n",
    "            j -= 1\n",
    "        student_list[j + 1] = key\n",
    "    return student_list\n",
    "\n",
    "#  Sort by CGPA Descending(Selection)\n",
    "def selection_sort_by_cgpa_desc(student_list):\n",
    "    n = len(student_list)\n",
    "    for i in range(n):\n",
    "        max_idx = i\n",
    "        for j in range(i + 1, n):\n",
    "            if student_list[j]['cgpa'] > student_list[max_idx]['cgpa']:\n",
    "                max_idx = j\n",
    "        student_list[i], student_list[max_idx] = student_list[max_idx], student_list[i]\n",
    "    return student_list\n",
    "\n",
    "\n",
    "print(\"Original List:\")\n",
    "for student in Students:\n",
    "    print(student)\n",
    "\n",
    "print(\"\\nSorted by ID (Bubble Sort):\")\n",
    "sorted_by_id = bubble_sort_by_id(Students.copy())\n",
    "for student in sorted_by_id:\n",
    "    print(student)\n",
    "\n",
    "print(\"\\nSorted by Name (Insertion Sort):\")\n",
    "sorted_by_name = insertion_sort_by_name(Students.copy())\n",
    "for student in sorted_by_name:\n",
    "    print(student)\n",
    "\n",
    "print(\"\\nSorted by CGPA Descending (Selection Sort):\")\n",
    "sorted_by_cgpa = selection_sort_by_cgpa_desc(Students.copy())\n",
    "for student in sorted_by_cgpa:\n",
    "    print(student)\n"
   ]
  },
  {
   "cell_type": "markdown",
   "id": "177f0627",
   "metadata": {},
   "source": [
    "<span style=\"font-size:32px; font-weight:bold;\">\n",
    "Analysis And Comparison of Sorting Algorithm\n",
    "</span>\n"
   ]
  },
  {
   "cell_type": "markdown",
   "id": "1f238c16",
   "metadata": {},
   "source": [
    "<span style=\"font-size:24px; font-weight:bold;\">\n",
    "Bubble sort by ID \n",
    "</span>\n",
    "\n",
    "\n",
    "It works Repeatedly compares adjacent elements and swaps them if they are out of order.\n",
    "\n",
    "Performance checked by:\n",
    "\n",
    "Time complexity:\n",
    "\n",
    "O(n) is the best case (if already sorted). and O(n²) is the worst/average case.\n",
    "\n",
    "complexity in space  (in-place): O(1) \n",
    " \n",
    "It is Very easy to use and comprehend, particularly for novices. And its  disadvantage by time complexity makes it incredibly inefficient on larger datasets; even when the data is nearly sorted, it compares and swaps a lot.\n"
   ]
  },
  {
   "cell_type": "markdown",
   "id": "23c5505c",
   "metadata": {},
   "source": [
    "<span style=\"font-size:24px; font-weight:bold;\">\n",
    "Insertion sort by Name \n",
    "</span>\n",
    "\n",
    "It works inserts each new element into the appropriate location to construct the sorted list one element at a time.\n",
    "\n",
    "Performance checked by:\n",
    "\n",
    "Complexity of Time: O(n) is the best case scenario (when data is already sorted).and O(n²) is the worst/average case.\n",
    "\n",
    "Complexity of Space: O(1)\n",
    "\n",
    "Sorting by insertion is Effective for small or almost sorted data; it eliminates needless effort by placing elements in their proper locations. And also ,\n",
    "IT has a disadvantage on big, unsorted datasets (O(n²)), it still performs poorly; it must move a lot of elements before it can put one in the proper location.\n"
   ]
  },
  {
   "cell_type": "markdown",
   "id": "2829ae19",
   "metadata": {},
   "source": [
    "<span style=\"font-size:24px; font-weight:bold;\">\n",
    "Selection Sort by CGPA (Descending)\n",
    "</span>\n",
    "\n",
    "It works moves the largest (or smallest) item from the unsorted section to the sorted section after repeatedly selecting it.\n",
    "\n",
    "Performance checked by: \n",
    "\n",
    "  Time Complexity: O(n2) in every situation (no best case).\n",
    "\n",
    "  Complexity of Space: O(1)\n",
    "\n",
    "Sorting by selection has an advantage to Performs fewer swaps compared to bubble or insertion sort, which can be useful if swaps are expensive (e.g., with large dictionaries).And it has a disadvantage A disadvantage Regardless of the data order, it always takes the same amount of time and not adaptive and inefficient for large list.\n"
   ]
  }
 ],
 "metadata": {
  "kernelspec": {
   "display_name": "Python 3",
   "language": "python",
   "name": "python3"
  },
  "language_info": {
   "codemirror_mode": {
    "name": "ipython",
    "version": 3
   },
   "file_extension": ".py",
   "mimetype": "text/x-python",
   "name": "python",
   "nbconvert_exporter": "python",
   "pygments_lexer": "ipython3",
   "version": "3.13.2"
  }
 },
 "nbformat": 4,
 "nbformat_minor": 5
}
